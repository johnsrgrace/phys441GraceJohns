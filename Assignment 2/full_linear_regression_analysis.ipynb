{
 "cells": [
  {
   "cell_type": "code",
   "execution_count": 1,
   "id": "initial_id",
   "metadata": {
    "collapsed": true,
    "ExecuteTime": {
     "end_time": "2024-01-26T21:09:54.845651Z",
     "start_time": "2024-01-26T21:09:53.347332Z"
    }
   },
   "outputs": [],
   "source": [
    "import matplotlib.pyplot as plt\n",
    "import pandas as pd\n",
    "import statsmodels.formula.api as smf"
   ]
  },
  {
   "cell_type": "markdown",
   "source": [
    "# Full Linear Regression Analysis\n",
    "\n",
    "Analyze the data in auto-mpg.csv using a multifactor approach, including interation terms.\n",
    "\n",
    "1. Plot MPG vs. each of the other factors in the data set.\n",
    "2. Clean the data.\n",
    "3. Create normalized column data for each of the factors.\n",
    "4. Create and fit a linear regression model that just includes the linear terms. Then create a column in the data frame for the predictions and residuals of this model.\n",
    "5. Remove any terms in the model that are not statistically significant and refit the model.\n",
    "6. Add in the interaction terms.\n",
    "7. Fit the data with this model, create predictions, residuals, histogram of residuals, and standard deviation of residuals.\n",
    "8. Remove all terms that are not statistically significant and refit the model."
   ],
   "metadata": {
    "collapsed": false
   },
   "id": "9b5472605fa8edad"
  },
  {
   "cell_type": "code",
   "execution_count": null,
   "outputs": [],
   "source": [],
   "metadata": {
    "collapsed": false
   },
   "id": "10e06bd9b227894b"
  }
 ],
 "metadata": {
  "kernelspec": {
   "display_name": "Python 3",
   "language": "python",
   "name": "python3"
  },
  "language_info": {
   "codemirror_mode": {
    "name": "ipython",
    "version": 2
   },
   "file_extension": ".py",
   "mimetype": "text/x-python",
   "name": "python",
   "nbconvert_exporter": "python",
   "pygments_lexer": "ipython2",
   "version": "2.7.6"
  }
 },
 "nbformat": 4,
 "nbformat_minor": 5
}
