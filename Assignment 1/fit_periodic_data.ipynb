{
 "cells": [
  {
   "cell_type": "code",
   "execution_count": 1,
   "id": "initial_id",
   "metadata": {
    "collapsed": true,
    "ExecuteTime": {
     "end_time": "2024-01-29T21:16:23.634725Z",
     "start_time": "2024-01-29T21:16:22.879286Z"
    }
   },
   "outputs": [],
   "source": [
    "import numpy as np\n",
    "import matplotlib.pyplot as plt\n",
    "from scipy.optimize import curve_fit"
   ]
  },
  {
   "cell_type": "markdown",
   "source": [
    "# Fitting of Periodic Data\n",
    "\n",
    "a) Create function that simulates data that takes a periodic function of the form:\n",
    "\n",
    "v = a0 + (a1)(t) + a2 sin(a4 t) + a3 cos(a4 t)\n",
    "\n",
    "Simulate the data at a number of random times over an interval and include Gaussian errors for the data. The inputs, aj, should take the form of a 1D python array.\n",
    "\n",
    "b) Setting a0=0, a1=1, a3=1, and a4=0, simulate a dataset from t=20 to t=35, containing 100 points with Gaussian errors with uncertainty equal to 0.5.\n",
    "\n",
    "c) Fit the data with a function of the same form as above. Do the fit parameters agree, within error, with the expected values?\n",
    "\n",
    "d) Now, define a new fitting function for the same data as:\n",
    "\n",
    "v = a0 + (a1)(t) + a2sin(a3*t + a4)\n",
    "\n",
    "and refit the data and extract the fit parameters with errors. Does this give a better or worse fit?\n",
    "\n",
    "e) Show that the two fits are mathematically equivalent, and then from this, calculate the mathematical relationship between the fit parameters and errors of the two fit functions."
   ],
   "metadata": {
    "collapsed": false
   },
   "id": "1ca35f35e34b6b9f"
  },
  {
   "cell_type": "code",
   "execution_count": 2,
   "outputs": [],
   "source": [
    "def periodic_function(coefficients, time_val):\n",
    "    \"\"\"\n",
    "    This function computes the value, v, for the periodic function:\n",
    "    \n",
    "    v = a0 + a1*t + a2*sin(a4*t) + a3*cos(a4*t)\n",
    "    \n",
    "    for given values of a0, a1, etc. and a given time value.\n",
    "    \n",
    "    :param coefficients: numpy array with the five coefficient values\n",
    "    :param time_val: a float representing a single time value\n",
    "    :return: the value of v as a single float\n",
    "    \"\"\"\n",
    "    \n",
    "    a0 = coefficients[0]\n",
    "    a1 = coefficients[1]\n",
    "    a2 = coefficients[2]\n",
    "    a3 = coefficients[3]\n",
    "    a4 = coefficients[4]\n",
    "    \n",
    "    return (a0 + (a1*time_val) + (a2*np.sin(a4*time_val)) + (a3*np.cos(a4*time_val)))\n",
    "\n",
    "def simulate_periodic_function(coeff, num_times, time_interval, sigma):\n",
    "    \"\"\"\n",
    "    This function generates data for a given number of time values in a given time interval.\n",
    "    Gaussian noise with a given uncertainty, sigma, is added to the data, and two numpy arrays\n",
    "    with the chosen times and output values are returned.\n",
    "    \n",
    "    :param coeff: numpy array with five coefficient values for the periodic function\n",
    "    :param num_times: how many data points are generated\n",
    "    :param time_interval: a list of two values indicating the interval the time values will be generated from\n",
    "    :param sigma: the uncertainty of the Gaussian noise\n",
    "    :return: two numpy arrays with the input and output data\n",
    "    \"\"\"\n",
    "\n",
    "    time_list = []\n",
    "    output_list = []\n",
    "    mu = (time_interval[1] - time_interval[0]) / 2.0\n",
    "    \n",
    "    for i in range(num_times):\n",
    "        time_value = np.random.uniform(time_interval[0], time_interval[1])\n",
    "        time_list.append(time_value)\n",
    "        gauss_error = np.random.normal(mu, sigma)\n",
    "        output_value = periodic_function(coeff, time_value) + gauss_error\n",
    "        output_list.append(output_value)\n",
    "    \n",
    "    return np.array(time_list), np.array(output_list)\n",
    "\n",
    "def graph_simulation_data(time_array, v_array):\n",
    "    \"\"\"\n",
    "    This function plots a graph of the data it's given.\n",
    "    \n",
    "    :param time_array: the independent variable\n",
    "    :param v_array: the dependent variable\n",
    "    :return: plot of the given data\n",
    "    \"\"\"\n",
    "    \n",
    "    plt.plot(time_array, v_array, \".\")\n",
    "    plt.show()"
   ],
   "metadata": {
    "collapsed": false,
    "ExecuteTime": {
     "end_time": "2024-01-29T21:16:24.365072Z",
     "start_time": "2024-01-29T21:16:24.347586Z"
    }
   },
   "id": "85e4d93e5eaa8ae1"
  },
  {
   "cell_type": "code",
   "execution_count": 3,
   "outputs": [
    {
     "data": {
      "text/plain": "<Figure size 640x480 with 1 Axes>",
      "image/png": "[encoded data removed]"
     },
     "metadata": {},
     "output_type": "display_data"
    }
   ],
   "source": [
    "# a_vals = np.array([1, 2, 3, 4, np.pi/2])\n",
    "a_vals = np.array([0, 1, 1, 1, 1])\n",
    "# time_interval = [0, 20]\n",
    "time_interval = [20, 35]\n",
    "\n",
    "sigma = 0.5\n",
    "num_points = 300\n",
    "\n",
    "x, y = simulate_periodic_function(a_vals, num_points, time_interval, sigma)\n",
    "graph_simulation_data(x, y)"
   ],
   "metadata": {
    "collapsed": false,
    "ExecuteTime": {
     "end_time": "2024-01-29T21:16:25.107831Z",
     "start_time": "2024-01-29T21:16:24.991311Z"
    }
   },
   "id": "bcdfebc0b71beb8e"
  },
  {
   "cell_type": "code",
   "execution_count": 4,
   "outputs": [],
   "source": [
    "def fit_function_one(t, a_0, a_1, a_2, a_3, a_4):\n",
    "    return a_0 + (a_1*t) + (a_2*np.sin(a_4*t)) + (a_3*np.cos(a_4*t))\n",
    "\n",
    "def fit_function_two(t, a_0, a_1, a_2, a_3, a_4):\n",
    "    return a_0 + (a_1*t) + (a_2*np.sin(a_3*t + a_4))"
   ],
   "metadata": {
    "collapsed": false,
    "ExecuteTime": {
     "end_time": "2024-01-29T21:16:26.607252Z",
     "start_time": "2024-01-29T21:16:26.406831Z"
    }
   },
   "id": "1fa0d2ab58378209"
  },
  {
   "cell_type": "code",
   "execution_count": 5,
   "outputs": [
    {
     "name": "stdout",
     "output_type": "stream",
     "text": [
      "[7.81327897 0.98663482 0.90492328 1.0825628  0.99591948]\n",
      "[[ 5.26305581e-02 -1.89762970e-03 -2.96771367e-02  2.57404531e-02\n",
      "  -1.02364432e-03]\n",
      " [-1.89762970e-03  6.95713642e-05  1.09272471e-03 -9.44039213e-04\n",
      "   3.78578386e-05]\n",
      " [-2.96771367e-02  1.09272471e-03  5.81493270e-02 -4.78959687e-02\n",
      "   1.92163526e-03]\n",
      " [ 2.57404531e-02 -9.44039213e-04 -4.78959687e-02  4.23497979e-02\n",
      "  -1.63109268e-03]\n",
      " [-1.02364432e-03  3.78578386e-05  1.92163526e-03 -1.63109268e-03\n",
      "   6.54344989e-05]]\n"
     ]
    }
   ],
   "source": [
    "# curve fit function sets initial parameter values to 1 if they are not given\n",
    "popt, pcov = curve_fit(fit_function_one, x, y)\n",
    "\n",
    "# optimal values for parameters\n",
    "print(popt)\n",
    "# covariance matrix for popt\n",
    "print(pcov)"
   ],
   "metadata": {
    "collapsed": false,
    "ExecuteTime": {
     "end_time": "2024-01-29T21:16:27.357628Z",
     "start_time": "2024-01-29T21:16:27.348006Z"
    }
   },
   "id": "32dbc3e6d6ccbfcd"
  },
  {
   "cell_type": "code",
   "execution_count": 6,
   "outputs": [
    {
     "name": "stdout",
     "output_type": "stream",
     "text": [
      "[7.81328235 0.98663469 1.41096721 0.99591926 0.87454575]\n",
      "[[ 5.26306834e-02 -1.89763425e-03  7.12564574e-04 -1.02365015e-03\n",
      "   2.78378789e-02]\n",
      " [-1.89763425e-03  6.95715296e-05 -2.33716381e-05  3.78580547e-05\n",
      "  -1.02330447e-03]\n",
      " [ 7.12564574e-04 -2.33716381e-05  1.71169727e-03 -1.87927509e-05\n",
      "   5.03814800e-04]\n",
      " [-1.02365015e-03  3.78580547e-05 -1.87927509e-05  6.54349336e-05\n",
      "  -1.78634243e-03]\n",
      " [ 2.78378789e-02 -1.02330447e-03  5.03814800e-04 -1.78634243e-03\n",
      "   4.96207862e-02]]\n"
     ]
    }
   ],
   "source": [
    "# curve fit function sets initial parameter values to 1 if they are not given\n",
    "popt, pcov = curve_fit(fit_function_two, x, y)\n",
    "\n",
    "# optimal values for parameters\n",
    "print(popt)\n",
    "# covariance matrix for popt\n",
    "print(pcov)"
   ],
   "metadata": {
    "collapsed": false,
    "ExecuteTime": {
     "end_time": "2024-01-29T21:17:50.092698Z",
     "start_time": "2024-01-29T21:17:50.060272Z"
    }
   },
   "id": "a847579a18da1a16"
  },
  {
   "cell_type": "code",
   "execution_count": null,
   "outputs": [],
   "source": [],
   "metadata": {
    "collapsed": false
   },
   "id": "a43f7f696a5e7e16"
  }
 ],
 "metadata": {
  "kernelspec": {
   "display_name": "Python 3",
   "language": "python",
   "name": "python3"
  },
  "language_info": {
   "codemirror_mode": {
    "name": "ipython",
    "version": 2
   },
   "file_extension": ".py",
   "mimetype": "text/x-python",
   "name": "python",
   "nbconvert_exporter": "python",
   "pygments_lexer": "ipython2",
   "version": "2.7.6"
  }
 },
 "nbformat": 4,
 "nbformat_minor": 5
}
