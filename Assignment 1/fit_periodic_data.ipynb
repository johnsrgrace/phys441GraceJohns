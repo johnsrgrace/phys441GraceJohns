{
 "cells": [
  {
   "cell_type": "code",
   "execution_count": null,
   "id": "initial_id",
   "metadata": {
    "collapsed": true
   },
   "outputs": [],
   "source": [
    "import numpy as np"
   ]
  },
  {
   "cell_type": "markdown",
   "source": [
    "# Fitting of Periodic Data\n",
    "\n",
    "a) Create function that simulates data that takes a periodic function of the form:\n",
    "\n",
    "v = a0 + a1 + a2cos(a4*t)\n",
    "\n",
    "Simulate the data at a number of random times over an interval and include Gaussian errors for the data. The inputs, aj, should take the form of a 1D python array.\n",
    "\n",
    "b) Setting a0=0, a1=1, a3=1, and a4=0, simulate a dataset from t=20 to t=35, containing 100 points with Gaussian errors with uncertainty equal to 0.5.\n",
    "\n",
    "c) Fit the data with a function of the same form as above. Do the fit parameters agree, within error, with the expected values?\n",
    "\n",
    "d) Now, define a new fitting function for the same data as:\n",
    "\n",
    "v = a0 + (a1)(t) + a2sin(a3*t + a4)\n",
    "\n",
    "and refit the data and extract the fit parameters with errors. Does this give a better or worse fit?\n",
    "\n",
    "e) Show that the two fits are mathematically equivalent, and then from this, calculate the mathematical relationship between the fit parameters and errors of the two fit functions."
   ],
   "metadata": {
    "collapsed": false
   },
   "id": "1ca35f35e34b6b9f"
  },
  {
   "cell_type": "code",
   "execution_count": null,
   "outputs": [],
   "source": [],
   "metadata": {
    "collapsed": false
   },
   "id": "85e4d93e5eaa8ae1"
  }
 ],
 "metadata": {
  "kernelspec": {
   "display_name": "Python 3",
   "language": "python",
   "name": "python3"
  },
  "language_info": {
   "codemirror_mode": {
    "name": "ipython",
    "version": 2
   },
   "file_extension": ".py",
   "mimetype": "text/x-python",
   "name": "python",
   "nbconvert_exporter": "python",
   "pygments_lexer": "ipython2",
   "version": "2.7.6"
  }
 },
 "nbformat": 4,
 "nbformat_minor": 5
}
