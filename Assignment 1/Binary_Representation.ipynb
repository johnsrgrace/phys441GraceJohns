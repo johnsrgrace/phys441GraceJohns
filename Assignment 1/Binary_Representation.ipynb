{
 "cells": [
  {
   "cell_type": "markdown",
   "source": [
    "# Floating Point Binary Representation\n",
    "\n",
    "Consider the case of 64-bit floating point binary representation."
   ],
   "metadata": {
    "collapsed": false
   },
   "id": "5570bfeee4bd7103"
  },
  {
   "cell_type": "code",
   "execution_count": null,
   "outputs": [],
   "source": [],
   "metadata": {
    "collapsed": false
   },
   "id": "b9ecba389f262b06"
  }
 ],
 "metadata": {
  "kernelspec": {
   "display_name": "Python 3",
   "language": "python",
   "name": "python3"
  },
  "language_info": {
   "codemirror_mode": {
    "name": "ipython",
    "version": 2
   },
   "file_extension": ".py",
   "mimetype": "text/x-python",
   "name": "python",
   "nbconvert_exporter": "python",
   "pygments_lexer": "ipython2",
   "version": "2.7.6"
  }
 },
 "nbformat": 4,
 "nbformat_minor": 5
}
