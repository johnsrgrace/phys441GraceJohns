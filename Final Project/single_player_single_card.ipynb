{
 "cells": [
  {
   "cell_type": "markdown",
   "source": [
    "# Single Player, Single Card Sequence Game\n",
    "\n",
    "In this simulation of the game, there is only one player who starts the game with no cards in their hand. At the beginning of their turn, they draw a card and immediately play the card they drew. Each card has two spots on the board, and the player will always choose the spot that has the smallest total distance to all the occupied spots. After each turn, the player will check for a sequence, and if they have achieved one, the game will end"
   ],
   "metadata": {
    "collapsed": false
   },
   "id": "c546a908618bb96c"
  },
  {
   "cell_type": "code",
   "execution_count": 1,
   "outputs": [],
   "source": [
    "from sequence_functions import *"
   ],
   "metadata": {
    "collapsed": false,
    "ExecuteTime": {
     "end_time": "2023-12-08T22:25:48.496482Z",
     "start_time": "2023-12-08T22:25:48.027433Z"
    }
   },
   "id": "dbc1be3af989f9b4"
  },
  {
   "cell_type": "code",
   "execution_count": 2,
   "outputs": [
    {
     "name": "stdout",
     "output_type": "stream",
     "text": [
      "Number of turns to win:  21\n"
     ]
    }
   ],
   "source": [
    "current_board, current_draw_pile = initialize_game_state(num_players=1)\n",
    "\n",
    "num_turns = 0\n",
    "game_end = False\n",
    "while not game_end:\n",
    "    current_board, current_card = player_takes_turn(current_board, current_draw_pile)\n",
    "    current_draw_pile.remove(current_card)\n",
    "    game_end = check_for_sequence(current_board)\n",
    "    # visualize_the_board(current_board)\n",
    "    num_turns += 1\n",
    "\n",
    "print(\"Number of turns to win: \", num_turns)"
   ],
   "metadata": {
    "collapsed": false,
    "ExecuteTime": {
     "end_time": "2023-12-08T22:25:48.506286Z",
     "start_time": "2023-12-08T22:25:48.482175Z"
    }
   },
   "id": "dda5d75f3ffa2e7c"
  },
  {
   "cell_type": "code",
   "execution_count": 3,
   "outputs": [],
   "source": [
    "def play_game():\n",
    "    \"\"\"\n",
    "    This function plays a single player, single card game of sequence,\n",
    "    and returns how many turns it took to win.\n",
    "    \n",
    "    :return: the number of turns it takes to win\n",
    "    \"\"\"\n",
    "    curr_board, curr_draw_pile = initialize_game_state(num_players=1)\n",
    "    tot_turns = 0\n",
    "    game_end_check = False\n",
    "    while not game_end_check:\n",
    "        curr_board, curr_card = player_takes_turn(curr_board, curr_draw_pile)\n",
    "        curr_draw_pile.remove(curr_card)\n",
    "        game_end_check = check_for_sequence(curr_board)\n",
    "        tot_turns += 1\n",
    "    \n",
    "    return tot_turns"
   ],
   "metadata": {
    "collapsed": false,
    "ExecuteTime": {
     "end_time": "2023-12-08T22:25:48.956608Z",
     "start_time": "2023-12-08T22:25:48.935131Z"
    }
   },
   "id": "81d67b3200e4602e"
  },
  {
   "cell_type": "code",
   "execution_count": 4,
   "outputs": [
    {
     "data": {
      "text/plain": "Text(0, 0.5, 'Number of Wins')"
     },
     "execution_count": 4,
     "metadata": {},
     "output_type": "execute_result"
    },
    {
     "data": {
      "text/plain": "<Figure size 640x480 with 1 Axes>",
      "image/png": "[encoded data removed]"
     },
     "metadata": {},
     "output_type": "display_data"
    }
   ],
   "source": [
    "# it took about 20 seconds to run 10000 games\n",
    "num_simulations = 10000\n",
    "turns_data = []\n",
    "\n",
    "for i in range(num_simulations):\n",
    "    turns_data.append(play_game())\n",
    "\n",
    "plt.hist(turns_data)\n",
    "plt.xlabel('Number of Turns')\n",
    "plt.ylabel('Number of Wins')"
   ],
   "metadata": {
    "collapsed": false,
    "ExecuteTime": {
     "end_time": "2023-12-08T22:26:09.495057Z",
     "start_time": "2023-12-08T22:25:49.825933Z"
    }
   },
   "id": "dc496265f99cbcd8"
  },
  {
   "cell_type": "code",
   "execution_count": null,
   "outputs": [],
   "source": [],
   "metadata": {
    "collapsed": false
   },
   "id": "f205d287180c9a16"
  }
 ],
 "metadata": {
  "kernelspec": {
   "display_name": "Python 3",
   "language": "python",
   "name": "python3"
  },
  "language_info": {
   "codemirror_mode": {
    "name": "ipython",
    "version": 2
   },
   "file_extension": ".py",
   "mimetype": "text/x-python",
   "name": "python",
   "nbconvert_exporter": "python",
   "pygments_lexer": "ipython2",
   "version": "2.7.6"
  }
 },
 "nbformat": 4,
 "nbformat_minor": 5
}
