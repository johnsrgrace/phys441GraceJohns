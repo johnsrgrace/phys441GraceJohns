{
 "cells": [
  {
   "cell_type": "markdown",
   "source": [
    "# Simulating Sequence\n",
    "\n",
    "### Overview of Gameplay\n",
    "Sequence is a tabletop strategy game, usually played with 2 to 3 people, where each player attempts to be the first to place five of their chips in a row (or \"sequence\") on the board. The board consists of a 10x10 grid, where each square represents a card in a standard deck of cards (except for the Jacks). Each card is represented twice on the board, and the four corners of the grid are \"free spaces\" that can a player can use as part of their sequence. The sequences can be horizontal, vertical, or diagonal.\n",
    "\n",
    "At the beginning of the game, each player is dealt seven cards from a deck consisting of 104 cards, i.e. two standard decks of cards. They take turns choosing and discarding a card from their hand, placing a chip on one of the matching spaces on the board (as long as it is unoccupied), then drawing another card from the deck. Jacks with two cards can be used as wild cards, to place a chip on any unoccupied space on the board, and Jacks with one eye can be used to remove an opponent's chip from the board.\n",
    "\n",
    "The first player to get a \"sequence,\" i.e. five chips in a row, wins the game.\n",
    "\n",
    "The wikipedia page, which contains further explanations and alternative rules and gameplay, can be found here: https://en.wikipedia.org/wiki/Sequence_(game)\n",
    "###\n",
    "### Simulation\n",
    "I will be simulating a game with only one player and no Jacks in the deck, at first, to see how many moves it takes to win on average. Then, I will attempt to simulate a game with one player, no Jacks in the deck, and more than one card in their hand, to see how the average number of moves it takes to win changes."
   ],
   "metadata": {
    "collapsed": false
   },
   "id": "46a7675628b1b8f2"
  },
  {
   "cell_type": "code",
   "execution_count": 1,
   "outputs": [],
   "source": [
    "import numpy as np\n",
    "import matplotlib.pyplot as plt"
   ],
   "metadata": {
    "collapsed": false,
    "ExecuteTime": {
     "end_time": "2023-12-12T23:59:06.993733Z",
     "start_time": "2023-12-12T23:59:06.442488Z"
    }
   },
   "id": "d6b2ffb36572bcbe"
  },
  {
   "cell_type": "markdown",
   "source": [
    "### Representing the Board\n",
    "\n",
    "An essential part of this game is keeping track of which spaces on the board are occupied or not, and so I will be creating a 10x10 numpy array where 1 represents an occupied space and 0 represents an unoccupied space. To keep track of which card is where on the board, I will be creating a python dictionary, where the card is the key, and the two sets of coordinates representing its places on the board are the value."
   ],
   "metadata": {
    "collapsed": false
   },
   "id": "cdd372b6983583f2"
  },
  {
   "cell_type": "code",
   "execution_count": 2,
   "outputs": [],
   "source": [
    "board = np.zeros((10, 10))\n",
    "\n",
    "# all cards will be represented with a string\n",
    "suits = [\"spade\", \"diamond\", \"club\", \"heart\"]\n",
    "card_types = [\"2\", \"3\", \"4\", \"5\", \"6\", \"7\", \"8\", \"9\", \"10\", \"Q\", \"K\", \"A\"]\n",
    "card_types_reverse = [\"A\", \"K\", \"Q\", \"10\", \"9\", \"8\", \"7\", \"6\", \"5\", \"4\", \"3\", \"2\"]\n",
    "deck_of_cards = []\n",
    "\n",
    "for suit in suits:\n",
    "    for card_type in card_types:\n",
    "        deck_of_cards.append(suit + card_type)\n",
    "# print(deck_of_cards)"
   ],
   "metadata": {
    "collapsed": false,
    "ExecuteTime": {
     "end_time": "2023-12-07T21:44:19.863161Z",
     "start_time": "2023-12-07T21:44:19.814218Z"
    }
   },
   "id": "ebd4cfe2d3930d0b"
  },
  {
   "cell_type": "code",
   "execution_count": 3,
   "outputs": [],
   "source": [
    "card_dict = {}\n",
    "for card in deck_of_cards:\n",
    "    card_dict[card] = []\n",
    "# print(card_dict)\n",
    "\n",
    "# coords = (row, column)\n",
    "# spade cards\n",
    "card_dict['spade2'] = [(0, 1), (8, 6)]\n",
    "card_dict['spade3'] = [(0, 2), (8, 5)]\n",
    "card_dict['spade4'] = [(0, 3), (8, 4)]\n",
    "card_dict['spade5'] = [(0, 4), (8, 3)]\n",
    "card_dict['spade6'] = [(0, 5), (8, 2)]\n",
    "card_dict['spade7'] = [(0, 6), (8, 1)]\n",
    "card_dict['spade8'] = [(0, 7), (7, 1)]\n",
    "card_dict['spade9'] = [(0, 8), (6, 1)]\n",
    "card_dict['spade10'] = [(1, 9), (5, 1)]\n",
    "card_dict['spadeQ'] = [(2, 9), (4, 1)]\n",
    "card_dict['spadeK'] = [(3, 9), (3, 1)]\n",
    "card_dict['spadeA'] = [(4, 9), (2, 1)]\n",
    "\n",
    "# diamond cards\n",
    "card_dict['diamond2'] = [(5, 9), (2, 2)]\n",
    "card_dict['diamond3'] = [(6, 9), (2, 3)]\n",
    "card_dict['diamond4'] = [(7, 9), (2, 4)]\n",
    "card_dict['diamond5'] = [(8, 9), (2, 5)]\n",
    "card_dict['diamond6'] = [(9, 8), (2, 6)]\n",
    "card_dict['diamond7'] = [(9, 7), (2, 7)]\n",
    "card_dict['diamond8'] = [(9, 6), (3, 7)]\n",
    "card_dict['diamond9'] = [(9, 5), (4, 7)]\n",
    "card_dict['diamond10'] = [(9, 4), (5, 7)]\n",
    "card_dict['diamondQ'] = [(9, 3), (6, 7)]\n",
    "card_dict['diamondK'] = [(9, 2), (7, 7)]\n",
    "card_dict['diamondA'] = [(9, 1), (7, 6)]\n",
    "\n",
    "# club cards\n",
    "card_dict['club2'] = [(1, 4), (3, 6)]\n",
    "card_dict['club3'] = [(1, 3), (3, 5)]\n",
    "card_dict['club4'] = [(1, 2), (3, 4)]\n",
    "card_dict['club5'] = [(1, 1), (3, 3)]\n",
    "card_dict['club6'] = [(1, 0), (3, 2)]\n",
    "card_dict['club7'] = [(2, 0), (4, 2)]\n",
    "card_dict['club8'] = [(3, 0), (5, 2)]\n",
    "card_dict['club9'] = [(4, 0), (6, 2)]\n",
    "card_dict['club10'] = [(5, 0), (7, 2)]\n",
    "card_dict['clubQ'] = [(6, 0), (7, 3)]\n",
    "card_dict['clubK'] = [(7, 0), (7, 4)]\n",
    "card_dict['clubA'] = [(8, 0), (7, 5)]\n",
    "\n",
    "# heart cards\n",
    "card_dict['heart2'] = [(8, 7), (5, 4)]\n",
    "card_dict['heart3'] = [(8, 8), (5, 5)]\n",
    "card_dict['heart4'] = [(7, 8), (4, 5)]\n",
    "card_dict['heart5'] = [(6, 8), (4, 4)]\n",
    "card_dict['heart6'] = [(5, 8), (4, 3)]\n",
    "card_dict['heart7'] = [(4, 8), (5, 3)]\n",
    "card_dict['heart8'] = [(3, 8), (6, 3)]\n",
    "card_dict['heart9'] = [(2, 8), (6, 4)]\n",
    "card_dict['heart10'] = [(1, 8), (6, 5)]\n",
    "card_dict['heartQ'] = [(1, 7), (6, 6)]\n",
    "card_dict['heartK'] = [(1, 6), (5, 6)]\n",
    "card_dict['heartA'] = [(1, 5), (4, 6)]\n",
    "\n",
    "# print(card_dict)"
   ],
   "metadata": {
    "collapsed": false,
    "ExecuteTime": {
     "end_time": "2023-12-07T21:44:20.159581Z",
     "start_time": "2023-12-07T21:44:20.152172Z"
    }
   },
   "id": "db2b23aeab760ef"
  },
  {
   "cell_type": "code",
   "execution_count": 4,
   "outputs": [],
   "source": [
    "# testing if coordinates can be successfully accessed from dictionary\n",
    "# chosen_card = \"club9\"\n",
    "# \n",
    "# spot1 = card_dict[chosen_card][0]\n",
    "# spot2 = card_dict[chosen_card][1]\n",
    "# \n",
    "# print(spot1, spot2)\n",
    "# print(spot1[0])"
   ],
   "metadata": {
    "collapsed": false,
    "ExecuteTime": {
     "end_time": "2023-12-07T21:44:20.527626Z",
     "start_time": "2023-12-07T21:44:20.525108Z"
    }
   },
   "id": "978bcab6b5df76b0"
  },
  {
   "cell_type": "code",
   "execution_count": 4,
   "outputs": [],
   "source": [],
   "metadata": {
    "collapsed": false,
    "ExecuteTime": {
     "end_time": "2023-12-07T21:44:21.086647Z",
     "start_time": "2023-12-07T21:44:21.047850Z"
    }
   },
   "id": "7c2d621ac80ad388"
  },
  {
   "cell_type": "markdown",
   "source": [
    "### Strategy\n",
    "\n",
    "There are multiple strategies for this game, but the strategy my player will be taking is to place chips as close together as possible. I will be creating a function that can calculate the distance between any two spaces using their coordinates. To make things simple, at the beginning of the game, the player will play whichever card is closest to a free space. If there is more than one card close to a free space, the player will simply randomly choose one to play."
   ],
   "metadata": {
    "collapsed": false
   },
   "id": "556f1c7c95e69754"
  },
  {
   "cell_type": "code",
   "execution_count": 5,
   "outputs": [],
   "source": [
    "def distance_formula(x1, y1, x2, y2):\n",
    "    \"\"\"\n",
    "    Given the coordinates of two points, this function calculates the\n",
    "    distance between them.\n",
    "    \n",
    "    :param x1: x-coordinate of the first point\n",
    "    :param y1: y-coordinate of the first point\n",
    "    :param x2: x-coordinate of the second point\n",
    "    :param y2: y-coordinate of the second point\n",
    "    :return: the distance between the two points\n",
    "    \"\"\"\n",
    "    dist = np.sqrt((x2 - x1)**2.0 + (y2 -y1)**2.0)\n",
    "    \n",
    "    return dist\n",
    "\n",
    "def best_spot(board_state, chosen_card):\n",
    "    \"\"\"\n",
    "    For each card in the deck, there are two spots on the board. This function\n",
    "    will calculate the total distance between each spot and the chips already\n",
    "    in play, and return the coordinates of the spot which has the least total\n",
    "    distance.\n",
    "    \n",
    "    :param board_state: a numpy array that represents the current state of the board\n",
    "    :param chosen_card: a string representing the card that the player wants to play\n",
    "    :return: coordinates of best spot, and total distance for that spot\n",
    "    \"\"\"\n",
    "    spot1 = card_dict[chosen_card][0]\n",
    "    spot2 = card_dict[chosen_card][1]\n",
    "    \n",
    "    total_dist1 = 0\n",
    "    total_dist2 = 0\n",
    "    for i in range(10):\n",
    "        for j in range(10):\n",
    "            space = board_state[i][j]\n",
    "            if space == 1.0:\n",
    "                print(\"space occupied!  i: \", i, \"j: \", j)\n",
    "                if (i == spot1[0]) and (j == spot1[1]):\n",
    "                    print(\"spot1 occupied!\")\n",
    "                    total_dist1 += 500\n",
    "                elif (i == spot2[0]) and (j == spot2[1]):\n",
    "                    print(\"spot2 occupied!\")\n",
    "                    total_dist2 += 500\n",
    "                else:\n",
    "                    total_dist1 += distance_formula(i, j, spot1[0], spot1[1])\n",
    "                    total_dist2 += distance_formula(i, j, spot2[0], spot2[1])\n",
    "            else:\n",
    "                # print(\"space unoccupied\")\n",
    "                pass\n",
    "    \n",
    "    if total_dist1 < total_dist2:\n",
    "        return spot1, total_dist1\n",
    "    else:\n",
    "        return spot2, total_dist2"
   ],
   "metadata": {
    "collapsed": false,
    "ExecuteTime": {
     "end_time": "2023-12-07T21:44:22.209485Z",
     "start_time": "2023-12-07T21:44:22.207331Z"
    }
   },
   "id": "2c94c0ed580e07bb"
  },
  {
   "cell_type": "code",
   "execution_count": 6,
   "outputs": [],
   "source": [
    "# # testing distance and best spot functions\n",
    "# test_board = np.zeros((10, 10))\n",
    "# \n",
    "# # occupied_spaces = [(1, 3), (2, 6), (1, 8), (2, 8), (4, 4), (5, 6), (0, 0), (0, 9), (9, 9), (9, 0)]\n",
    "# occupied_spaces = [(1, 3), (2, 6), (1, 8), (2, 8), (4, 4), (5, 6), (0, 0), (0, 9), (9, 9), (9, 0), (1, 9)]\n",
    "# \n",
    "# for coords in occupied_spaces:\n",
    "#     row = coords[0]\n",
    "#     col = coords[1]\n",
    "#     test_board[row][col] = 1\n",
    "# \n",
    "# # print(test_board)\n",
    "# \n",
    "# chosen_one = \"spade10\"\n",
    "# best = best_spot(test_board, chosen_one)\n",
    "# print(best)"
   ],
   "metadata": {
    "collapsed": false,
    "ExecuteTime": {
     "end_time": "2023-12-07T21:44:22.898850Z",
     "start_time": "2023-12-07T21:44:22.880106Z"
    }
   },
   "id": "e6dd84ed5aba33ed"
  },
  {
   "cell_type": "code",
   "execution_count": 6,
   "outputs": [],
   "source": [],
   "metadata": {
    "collapsed": false,
    "ExecuteTime": {
     "end_time": "2023-12-07T21:44:23.604027Z",
     "start_time": "2023-12-07T21:44:23.599650Z"
    }
   },
   "id": "a76d877dd06fb769"
  },
  {
   "cell_type": "markdown",
   "source": [
    "### Winning\n",
    "\n",
    "At the end of each turn, the player will check for sequences. If a sequence has been achieved, the game will end."
   ],
   "metadata": {
    "collapsed": false
   },
   "id": "7d9f466221e46cca"
  },
  {
   "cell_type": "code",
   "execution_count": 89,
   "outputs": [],
   "source": [
    "def check_for_sequence(board_state):\n",
    "    \"\"\"\n",
    "    Given the current state of the board, this function checks for\n",
    "    five occupied spaces in a row, either horizontal, vertical, or\n",
    "    diagonal.\n",
    "    \n",
    "    :param board_state: a 10x10 numpy array, where zero represents unoccupied spaces and one represents occupied space\n",
    "    :return: True, if there is a sequence, and False if there is not\n",
    "    \"\"\"\n",
    "    \n",
    "    for i in range(10):\n",
    "        count1 = 0\n",
    "        count2 = 0\n",
    "        for j in range(10):\n",
    "            # check row for sequence\n",
    "            if board_state[i][j] == 1:\n",
    "                count1 += 1\n",
    "            else:\n",
    "                count1 = 0\n",
    "            # check column for sequence\n",
    "            if board_state[j][i] == 1:\n",
    "                count2 += 1\n",
    "            else:\n",
    "                count2 = 0\n",
    "            if (count1 == 5) or (count2 == 5):\n",
    "                return True\n",
    "    \n",
    "    # check for diagonal sequences\n",
    "    rev_ind = [i for i in range(9, -1, -1)]\n",
    "    for num in range(5, 11):\n",
    "        count3 = 0\n",
    "        count4 = 0\n",
    "        ind1 = num - 1\n",
    "        for i in range(num):\n",
    "            # print(\"(i, ind1): \", i, ind1)\n",
    "            if board_state[i][ind1] == 1:\n",
    "                count3 += 1\n",
    "            else:\n",
    "                count3 = 0\n",
    "            # print(\"(rev_ind, i): \", rev_ind[ind1], i)\n",
    "            if board_state[rev_ind[ind1]][i] == 1:\n",
    "                count4 += 1\n",
    "            else:\n",
    "                count4 = 0\n",
    "            ind1 -= 1\n",
    "            if (count3 == 5) or (count4 == 5):\n",
    "                return True\n",
    "\n",
    "    for num in range(4, -1, -1):\n",
    "        count5 = 0\n",
    "        count6 = 0\n",
    "        ind2 = num + 1\n",
    "        for i in range(9, num, -1):\n",
    "            # print(\"(ind2, i): \", ind2, i)\n",
    "            if board_state[ind2][i] == 1:\n",
    "                count5 += 1\n",
    "            else:\n",
    "                count5 = 0\n",
    "            # print(\"(rev_ind, ind2): \", rev_ind[i], ind2)\n",
    "            if board_state[rev_ind[i]][ind2] == 1:\n",
    "                count6 += 1\n",
    "            else:\n",
    "                count6 = 0\n",
    "            ind2 += 1\n",
    "            if (count5 == 5) or (count6 == 5):\n",
    "                return True\n",
    "    \n",
    "    return False"
   ],
   "metadata": {
    "collapsed": false,
    "ExecuteTime": {
     "end_time": "2023-12-08T19:10:10.279802Z",
     "start_time": "2023-12-08T19:10:10.186027Z"
    }
   },
   "id": "7421d7fef9b63295"
  },
  {
   "cell_type": "code",
   "execution_count": 96,
   "outputs": [
    {
     "name": "stdout",
     "output_type": "stream",
     "text": [
      "[[1. 0. 0. 0. 0. 0. 0. 0. 0. 1.]\n",
      " [0. 0. 0. 0. 0. 0. 0. 0. 0. 1.]\n",
      " [0. 0. 0. 0. 0. 0. 0. 0. 0. 0.]\n",
      " [0. 0. 0. 0. 0. 0. 0. 0. 0. 0.]\n",
      " [0. 0. 0. 0. 0. 0. 0. 0. 0. 0.]\n",
      " [1. 0. 0. 1. 1. 1. 1. 1. 0. 0.]\n",
      " [0. 0. 0. 0. 0. 0. 0. 0. 0. 0.]\n",
      " [0. 0. 0. 0. 0. 0. 0. 0. 0. 0.]\n",
      " [0. 0. 0. 0. 0. 0. 0. 0. 0. 0.]\n",
      " [1. 0. 0. 0. 0. 0. 0. 0. 0. 1.]]\n"
     ]
    },
    {
     "data": {
      "text/plain": "True"
     },
     "execution_count": 96,
     "metadata": {},
     "output_type": "execute_result"
    }
   ],
   "source": [
    "# testing sequence function\n",
    "test_board = np.zeros((10, 10))\n",
    "\n",
    "# no sequence\n",
    "# occupied_spaces = [(9, 5), (1, 4), (2, 3), (3, 3), (4, 1), (5, 0), (0, 0), (0, 9), (9, 9), (9, 0), (1, 9)]\n",
    "\n",
    "# horizontal, vertical, and diagonal sequences\n",
    "# occupied_spaces = [(1, 1), (2, 2), (3, 3), (4, 4), (4, 1), (5, 0), (0, 0), (0, 9), (9, 9), (9, 0), (1, 9)]\n",
    "# occupied_spaces = [(4, 7), (5, 7), (6, 7), (7, 7), (8, 7), (5, 0), (0, 0), (0, 9), (9, 9), (9, 0), (1, 9)]\n",
    "# occupied_spaces = [(9, 1), (8, 2), (7, 3), (6, 4), (5, 5), (5, 0), (0, 0), (0, 9), (9, 9), (9, 0), (1, 9)]\n",
    "occupied_spaces = [(5, 3), (5, 4), (5, 6), (5, 7), (5, 5), (5, 0), (0, 0), (0, 9), (9, 9), (9, 0), (1, 9)]\n",
    "\n",
    "\n",
    "for coords in occupied_spaces:\n",
    "    row = coords[0]\n",
    "    col = coords[1]\n",
    "    test_board[row][col] = 1\n",
    "\n",
    "print(test_board)\n",
    "check_for_sequence(test_board)"
   ],
   "metadata": {
    "collapsed": false,
    "ExecuteTime": {
     "end_time": "2023-12-08T19:11:33.828850Z",
     "start_time": "2023-12-08T19:11:33.777294Z"
    }
   },
   "id": "fd24aa17a5b0ea30"
  },
  {
   "cell_type": "code",
   "execution_count": null,
   "outputs": [],
   "source": [],
   "metadata": {
    "collapsed": false
   },
   "id": "1bce920bb89d84c0"
  },
  {
   "cell_type": "markdown",
   "source": [
    "### Visualizing the Board\n",
    "\n",
    "It is helpful to see where all the chips are on the board, and so I will be creating a function that plots colored dots on a 10x10 grid, where red ones represent occupied spaces and gray ones represent unoccupied spaces."
   ],
   "metadata": {
    "collapsed": false
   },
   "id": "ec56fcd2904d68c6"
  },
  {
   "cell_type": "code",
   "execution_count": 114,
   "outputs": [],
   "source": [
    "def visualize_the_board(board_state):\n",
    "    \"\"\"\n",
    "    Given the current board state, this function creates a scatter plot,\n",
    "    where the occupied spaces are red dots, and unoccupied spaces are gray\n",
    "    dots.\n",
    "    \n",
    "    :param board_state: a 10x10 numpy array, where zero represents unoccupied spaces and one represents occupied space\n",
    "    :return: a pretty scatter plot\n",
    "    \"\"\"\n",
    "    \n",
    "    x_occ = []\n",
    "    y_occ = []\n",
    "    x_unocc = []\n",
    "    y_unocc = []\n",
    "    \n",
    "    for i in range(10):\n",
    "        for j in range(10):\n",
    "            if test_board[i][j] == 1:\n",
    "                x_occ.append(i+0.5)\n",
    "                y_occ.append(j+0.5)\n",
    "            else:\n",
    "                x_unocc.append(i+0.5)\n",
    "                y_unocc.append(j+0.5)\n",
    "    \n",
    "    plt.scatter(x_occ, y_occ, c='red')\n",
    "    plt.scatter(x_unocc, y_unocc, c='grey')\n",
    "    plt.xticks([i for i in range(11)])\n",
    "    plt.yticks([i for i in range(11)])\n",
    "    plt.grid()"
   ],
   "metadata": {
    "collapsed": false,
    "ExecuteTime": {
     "end_time": "2023-12-08T19:42:30.727356Z",
     "start_time": "2023-12-08T19:42:30.682791Z"
    }
   },
   "id": "d76d231f06904f79"
  },
  {
   "cell_type": "code",
   "execution_count": 119,
   "outputs": [
    {
     "data": {
      "text/plain": "<Figure size 640x480 with 1 Axes>",
      "image/png": "[encoded data removed]"
     },
     "metadata": {},
     "output_type": "display_data"
    }
   ],
   "source": [
    "test_board = np.zeros((10, 10))\n",
    "occupied_spaces = [(5, 3), (5, 4), (5, 6), (5, 7), (5, 5), (5, 0), (0, 0), (1, 1),\n",
    "                   (2, 2), (3, 3), (4, 4), (4, 1), (0, 9), (9, 9), (9, 0), (1, 9)]\n",
    "\n",
    "for coords in occupied_spaces:\n",
    "    row = coords[0]\n",
    "    col = coords[1]\n",
    "    test_board[row][col] = 1\n",
    "\n",
    "visualize_the_board(test_board)"
   ],
   "metadata": {
    "collapsed": false,
    "ExecuteTime": {
     "end_time": "2023-12-08T20:16:56.686672Z",
     "start_time": "2023-12-08T20:16:56.611191Z"
    }
   },
   "id": "6938d9e72768f811"
  },
  {
   "cell_type": "code",
   "execution_count": null,
   "outputs": [],
   "source": [],
   "metadata": {
    "collapsed": false
   },
   "id": "2b6e663e3f65b1e9"
  },
  {
   "cell_type": "markdown",
   "source": [
    "### Taking a Turn\n",
    "\n",
    "When a player has no cards in their hand for a game, their turn will consist of drawing a card, figuring out which spot on the board is best for that card, then playing that card. The function below will be used to have the player take a single turn."
   ],
   "metadata": {
    "collapsed": false
   },
   "id": "d67ad77218fe91"
  },
  {
   "cell_type": "code",
   "execution_count": 116,
   "outputs": [],
   "source": [
    "def player_takes_turn(board_state, draw_pile):\n",
    "    \"\"\"\n",
    "    This function returns the new board state after a player draws a card and plays a card.\n",
    "    \n",
    "    :param board_state: a 10x10 numpy array, where zero represents unoccupied spaces and one represents occupied space\n",
    "    :param draw_pile: a list of all cards that haven't been drawn\n",
    "    :return: the new board state, and the card that was drawn\n",
    "    \"\"\"\n",
    "    \n",
    "    card_ind = np.random.randint(0, len(draw_pile))\n",
    "    card_drawn = draw_pile[card_ind]\n",
    "    \n",
    "    place_chip, _ = best_spot(board_state, card_drawn)\n",
    "    board_state[place_chip[0]][place_chip[1]] = 1\n",
    "    \n",
    "    return board_state, card_drawn"
   ],
   "metadata": {
    "collapsed": false,
    "ExecuteTime": {
     "end_time": "2023-12-08T20:01:29.494427Z",
     "start_time": "2023-12-08T20:01:29.377713Z"
    }
   },
   "id": "bc819dfda75c5e3f"
  },
  {
   "cell_type": "code",
   "execution_count": null,
   "outputs": [],
   "source": [],
   "metadata": {
    "collapsed": false
   },
   "id": "3c44e97a23bf2467"
  },
  {
   "cell_type": "code",
   "execution_count": null,
   "outputs": [],
   "source": [],
   "metadata": {
    "collapsed": false
   },
   "id": "6f39434f663ef0c5"
  }
 ],
 "metadata": {
  "kernelspec": {
   "display_name": "Python 3",
   "language": "python",
   "name": "python3"
  },
  "language_info": {
   "codemirror_mode": {
    "name": "ipython",
    "version": 2
   },
   "file_extension": ".py",
   "mimetype": "text/x-python",
   "name": "python",
   "nbconvert_exporter": "python",
   "pygments_lexer": "ipython2",
   "version": "2.7.6"
  }
 },
 "nbformat": 4,
 "nbformat_minor": 5
}
