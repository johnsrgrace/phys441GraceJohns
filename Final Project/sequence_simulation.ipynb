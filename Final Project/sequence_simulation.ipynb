{
 "cells": [
  {
   "cell_type": "markdown",
   "source": [
    "# Simulating Sequence\n",
    "\n",
    "### Overview of Gameplay\n",
    "Sequence is a tabletop strategy game, usually played with 2 to 3 people, where each player attempts to be the first to place five of their chips in a row (or \"sequence\") on the board. The board consists of a 10x10 grid, where each square represents a card in a standard deck of cards (except for the Jacks). Each card is represented twice on the board, and the four corners of the grid are \"free spaces\" that can a player can use as part of their sequence. The sequences can be horizontal, vertical, or diagonal.\n",
    "\n",
    "At the beginning of the game, each player is dealt seven cards from a deck consisting of 104 cards, i.e. two standard decks of cards. They take turns choosing and discarding a card from their hand, placing a chip on one of the matching spaces on the board (as long as it is unoccupied), then drawing another card from the deck. Jacks with two cards can be used as wild cards, to place a chip on any unoccupied space on the board, and Jacks with one eye can be used to remove an opponent's chip from the board.\n",
    "\n",
    "The first player to get a \"sequence,\" i.e. five chips in a row, wins the game.\n",
    "\n",
    "The wikipedia page, which contains further explanations and alternative rules and gameplay, can be found here: https://en.wikipedia.org/wiki/Sequence_(game)\n",
    "###\n",
    "### Simulation\n",
    "I will be simulating a game with only one player and no Jacks in the deck, at first, to see how many moves it takes to win on average. Then, I will attempt to simulate a game with two players and no Jacks in the deck, to see how the average number of moves it takes to win changes."
   ],
   "metadata": {
    "collapsed": false
   },
   "id": "46a7675628b1b8f2"
  },
  {
   "cell_type": "code",
   "execution_count": 1,
   "outputs": [],
   "source": [
    "import numpy as np"
   ],
   "metadata": {
    "collapsed": false,
    "ExecuteTime": {
     "end_time": "2023-12-07T21:44:19.172068Z",
     "start_time": "2023-12-07T21:44:19.084165Z"
    }
   },
   "id": "d6b2ffb36572bcbe"
  },
  {
   "cell_type": "markdown",
   "source": [
    "### Representing the Board\n",
    "\n",
    "An essential part of this game is keeping track of which spaces on the board are occupied or not, and so I will be creating a 10x10 numpy array where 1 represents an occupied space and 0 represents an unoccupied space. To keep track of which card is where on the board, I will be creating a python dictionary, where the card is the key, and the two sets of coordinates representing its places on the board are the value."
   ],
   "metadata": {
    "collapsed": false
   },
   "id": "cdd372b6983583f2"
  },
  {
   "cell_type": "code",
   "execution_count": 2,
   "outputs": [],
   "source": [
    "board = np.zeros((10, 10))\n",
    "\n",
    "# all cards will be represented with a string\n",
    "suits = [\"spade\", \"diamond\", \"club\", \"heart\"]\n",
    "card_types = [\"2\", \"3\", \"4\", \"5\", \"6\", \"7\", \"8\", \"9\", \"10\", \"Q\", \"K\", \"A\"]\n",
    "card_types_reverse = [\"A\", \"K\", \"Q\", \"10\", \"9\", \"8\", \"7\", \"6\", \"5\", \"4\", \"3\", \"2\"]\n",
    "deck_of_cards = []\n",
    "\n",
    "for suit in suits:\n",
    "    for card_type in card_types:\n",
    "        deck_of_cards.append(suit + card_type)\n",
    "# print(deck_of_cards)"
   ],
   "metadata": {
    "collapsed": false,
    "ExecuteTime": {
     "end_time": "2023-12-07T21:44:19.863161Z",
     "start_time": "2023-12-07T21:44:19.814218Z"
    }
   },
   "id": "ebd4cfe2d3930d0b"
  },
  {
   "cell_type": "code",
   "execution_count": 3,
   "outputs": [],
   "source": [
    "card_dict = {}\n",
    "for card in deck_of_cards:\n",
    "    card_dict[card] = []\n",
    "# print(card_dict)\n",
    "\n",
    "# coords = (row, column)\n",
    "# spade cards\n",
    "card_dict['spade2'] = [(0, 1), (8, 6)]\n",
    "card_dict['spade3'] = [(0, 2), (8, 5)]\n",
    "card_dict['spade4'] = [(0, 3), (8, 4)]\n",
    "card_dict['spade5'] = [(0, 4), (8, 3)]\n",
    "card_dict['spade6'] = [(0, 5), (8, 2)]\n",
    "card_dict['spade7'] = [(0, 6), (8, 1)]\n",
    "card_dict['spade8'] = [(0, 7), (7, 1)]\n",
    "card_dict['spade9'] = [(0, 8), (6, 1)]\n",
    "card_dict['spade10'] = [(1, 9), (5, 1)]\n",
    "card_dict['spadeQ'] = [(2, 9), (4, 1)]\n",
    "card_dict['spadeK'] = [(3, 9), (3, 1)]\n",
    "card_dict['spadeA'] = [(4, 9), (2, 1)]\n",
    "\n",
    "# diamond cards\n",
    "card_dict['diamond2'] = [(5, 9), (2, 2)]\n",
    "card_dict['diamond3'] = [(6, 9), (2, 3)]\n",
    "card_dict['diamond4'] = [(7, 9), (2, 4)]\n",
    "card_dict['diamond5'] = [(8, 9), (2, 5)]\n",
    "card_dict['diamond6'] = [(9, 8), (2, 6)]\n",
    "card_dict['diamond7'] = [(9, 7), (2, 7)]\n",
    "card_dict['diamond8'] = [(9, 6), (3, 7)]\n",
    "card_dict['diamond9'] = [(9, 5), (4, 7)]\n",
    "card_dict['diamond10'] = [(9, 4), (5, 7)]\n",
    "card_dict['diamondQ'] = [(9, 3), (6, 7)]\n",
    "card_dict['diamondK'] = [(9, 2), (7, 7)]\n",
    "card_dict['diamondA'] = [(9, 1), (7, 6)]\n",
    "\n",
    "# club cards\n",
    "card_dict['club2'] = [(1, 4), (3, 6)]\n",
    "card_dict['club3'] = [(1, 3), (3, 5)]\n",
    "card_dict['club4'] = [(1, 2), (3, 4)]\n",
    "card_dict['club5'] = [(1, 1), (3, 3)]\n",
    "card_dict['club6'] = [(1, 0), (3, 2)]\n",
    "card_dict['club7'] = [(2, 0), (4, 2)]\n",
    "card_dict['club8'] = [(3, 0), (5, 2)]\n",
    "card_dict['club9'] = [(4, 0), (6, 2)]\n",
    "card_dict['club10'] = [(5, 0), (7, 2)]\n",
    "card_dict['clubQ'] = [(6, 0), (7, 3)]\n",
    "card_dict['clubK'] = [(7, 0), (7, 4)]\n",
    "card_dict['clubA'] = [(8, 0), (7, 5)]\n",
    "\n",
    "# heart cards\n",
    "card_dict['heart2'] = [(8, 7), (5, 4)]\n",
    "card_dict['heart3'] = [(8, 8), (5, 5)]\n",
    "card_dict['heart4'] = [(7, 8), (4, 5)]\n",
    "card_dict['heart5'] = [(6, 8), (4, 4)]\n",
    "card_dict['heart6'] = [(5, 8), (4, 3)]\n",
    "card_dict['heart7'] = [(4, 8), (5, 3)]\n",
    "card_dict['heart8'] = [(3, 8), (6, 3)]\n",
    "card_dict['heart9'] = [(2, 8), (6, 4)]\n",
    "card_dict['heart10'] = [(1, 8), (6, 5)]\n",
    "card_dict['heartQ'] = [(1, 7), (6, 6)]\n",
    "card_dict['heartK'] = [(1, 6), (5, 6)]\n",
    "card_dict['heartA'] = [(1, 5), (4, 6)]\n",
    "\n",
    "# print(card_dict)"
   ],
   "metadata": {
    "collapsed": false,
    "ExecuteTime": {
     "end_time": "2023-12-07T21:44:20.159581Z",
     "start_time": "2023-12-07T21:44:20.152172Z"
    }
   },
   "id": "db2b23aeab760ef"
  },
  {
   "cell_type": "code",
   "execution_count": 4,
   "outputs": [],
   "source": [
    "# testing if coordinates can be successfully accessed from dictionary\n",
    "# chosen_card = \"club9\"\n",
    "# \n",
    "# spot1 = card_dict[chosen_card][0]\n",
    "# spot2 = card_dict[chosen_card][1]\n",
    "# \n",
    "# print(spot1, spot2)\n",
    "# print(spot1[0])"
   ],
   "metadata": {
    "collapsed": false,
    "ExecuteTime": {
     "end_time": "2023-12-07T21:44:20.527626Z",
     "start_time": "2023-12-07T21:44:20.525108Z"
    }
   },
   "id": "978bcab6b5df76b0"
  },
  {
   "cell_type": "code",
   "execution_count": 4,
   "outputs": [],
   "source": [],
   "metadata": {
    "collapsed": false,
    "ExecuteTime": {
     "end_time": "2023-12-07T21:44:21.086647Z",
     "start_time": "2023-12-07T21:44:21.047850Z"
    }
   },
   "id": "7c2d621ac80ad388"
  },
  {
   "cell_type": "markdown",
   "source": [
    "### Strategy\n",
    "\n",
    "There are multiple strategies for this game, but the strategy my player will be taking is to place chips as close together as possible. I will be creating a function that can calculate the distance between any two spaces using their coordinates. To make things simple, at the beginning of the game, the player will play whichever card is closest to a free space. If there is more than one card close to a free space, the player will simply randomly choose one to play."
   ],
   "metadata": {
    "collapsed": false
   },
   "id": "556f1c7c95e69754"
  },
  {
   "cell_type": "code",
   "execution_count": 5,
   "outputs": [],
   "source": [
    "def distance_formula(x1, y1, x2, y2):\n",
    "    \"\"\"\n",
    "    Given the coordinates of two points, this function calculates the\n",
    "    distance between them.\n",
    "    \n",
    "    :param x1: x-coordinate of the first point\n",
    "    :param y1: y-coordinate of the first point\n",
    "    :param x2: x-coordinate of the second point\n",
    "    :param y2: y-coordinate of the second point\n",
    "    :return: the distance between the two points\n",
    "    \"\"\"\n",
    "    dist = np.sqrt((x2 - x1)**2.0 + (y2 -y1)**2.0)\n",
    "    \n",
    "    return dist\n",
    "\n",
    "def best_spot(board_state, chosen_card):\n",
    "    \"\"\"\n",
    "    For each card in the deck, there are two spots on the board. This function\n",
    "    will calculate the total distance between each spot and the chips already\n",
    "    in play, and return the coordinates of the spot which has the least total\n",
    "    distance.\n",
    "    \n",
    "    :param board_state: a numpy array that represents the current state of the board\n",
    "    :param chosen_card: a string representing the card that the player wants to play\n",
    "    :return: coordinates of best spot\n",
    "    \"\"\"\n",
    "    spot1 = card_dict[chosen_card][0]\n",
    "    spot2 = card_dict[chosen_card][1]\n",
    "    \n",
    "    total_dist1 = 0\n",
    "    total_dist2 = 0\n",
    "    for i in range(10):\n",
    "        for j in range(10):\n",
    "            space = board_state[i][j]\n",
    "            if space == 1.0:\n",
    "                print(\"space occupied!  i: \", i, \"j: \", j)\n",
    "                if (i == spot1[0]) and (j == spot1[1]):\n",
    "                    print(\"spot1 occupied!\")\n",
    "                    return spot2\n",
    "                elif (i == spot2[0]) and (j == spot2[1]):\n",
    "                    print(\"spot2 occupied!\")\n",
    "                    return spot1\n",
    "                else:\n",
    "                    total_dist1 += distance_formula(i, j, spot1[0], spot1[1])\n",
    "                    total_dist2 += distance_formula(i, j, spot2[0], spot2[1])\n",
    "            else:\n",
    "                # print(\"space unoccupied\")\n",
    "                pass\n",
    "    \n",
    "    if total_dist1 < total_dist2:\n",
    "        return spot1\n",
    "    else:\n",
    "        return spot2"
   ],
   "metadata": {
    "collapsed": false,
    "ExecuteTime": {
     "end_time": "2023-12-07T21:44:22.209485Z",
     "start_time": "2023-12-07T21:44:22.207331Z"
    }
   },
   "id": "2c94c0ed580e07bb"
  },
  {
   "cell_type": "code",
   "execution_count": 6,
   "outputs": [],
   "source": [
    "# # testing distance and best spot functions\n",
    "# test_board = np.zeros((10, 10))\n",
    "# \n",
    "# # occupied_spaces = [(1, 3), (2, 6), (1, 8), (2, 8), (4, 4), (5, 6), (0, 0), (0, 9), (9, 9), (9, 0)]\n",
    "# occupied_spaces = [(1, 3), (2, 6), (1, 8), (2, 8), (4, 4), (5, 6), (0, 0), (0, 9), (9, 9), (9, 0), (1, 9)]\n",
    "# \n",
    "# for coords in occupied_spaces:\n",
    "#     row = coords[0]\n",
    "#     col = coords[1]\n",
    "#     test_board[row][col] = 1\n",
    "# \n",
    "# # print(test_board)\n",
    "# \n",
    "# chosen_one = \"spade10\"\n",
    "# best = best_spot(test_board, chosen_one)\n",
    "# print(best)"
   ],
   "metadata": {
    "collapsed": false,
    "ExecuteTime": {
     "end_time": "2023-12-07T21:44:22.898850Z",
     "start_time": "2023-12-07T21:44:22.880106Z"
    }
   },
   "id": "e6dd84ed5aba33ed"
  },
  {
   "cell_type": "code",
   "execution_count": 6,
   "outputs": [],
   "source": [],
   "metadata": {
    "collapsed": false,
    "ExecuteTime": {
     "end_time": "2023-12-07T21:44:23.604027Z",
     "start_time": "2023-12-07T21:44:23.599650Z"
    }
   },
   "id": "a76d877dd06fb769"
  },
  {
   "cell_type": "markdown",
   "source": [
    "### Winning\n",
    "\n",
    "At the end of each turn, the player will check for sequences. If a sequence has been achieved, the game will end."
   ],
   "metadata": {
    "collapsed": false
   },
   "id": "7d9f466221e46cca"
  },
  {
   "cell_type": "code",
   "execution_count": null,
   "outputs": [],
   "source": [],
   "metadata": {
    "collapsed": false
   },
   "id": "7421d7fef9b63295"
  }
 ],
 "metadata": {
  "kernelspec": {
   "display_name": "Python 3",
   "language": "python",
   "name": "python3"
  },
  "language_info": {
   "codemirror_mode": {
    "name": "ipython",
    "version": 2
   },
   "file_extension": ".py",
   "mimetype": "text/x-python",
   "name": "python",
   "nbconvert_exporter": "python",
   "pygments_lexer": "ipython2",
   "version": "2.7.6"
  }
 },
 "nbformat": 4,
 "nbformat_minor": 5
}
