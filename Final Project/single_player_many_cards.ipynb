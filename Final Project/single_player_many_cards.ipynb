{
 "cells": [
  {
   "cell_type": "markdown",
   "source": [
    "# Single Player, Many Cards Sequence Game\n",
    "\n",
    "In this simulation of the game, there is a single player who begins the game with a certain number of randomly drawn cards from the deck pile. At the beginning of their turn, they play the card from their hand that has the smallest total distance to all the occupied spots. They draw another card from the deck to replace the one they just played. After each turn, the player will check for a sequence, and if they have achieved one, the game will end. "
   ],
   "metadata": {
    "collapsed": false
   },
   "id": "852d9acc82955a51"
  },
  {
   "cell_type": "code",
   "execution_count": 1,
   "outputs": [],
   "source": [
    "from sequence_functions import *"
   ],
   "metadata": {
    "collapsed": false,
    "ExecuteTime": {
     "end_time": "2023-12-13T00:28:38.017799Z",
     "start_time": "2023-12-13T00:28:37.578962Z"
    }
   },
   "id": "f786a41dc09c7656"
  },
  {
   "cell_type": "code",
   "execution_count": 2,
   "outputs": [
    {
     "name": "stdout",
     "output_type": "stream",
     "text": [
      "Number of turns to win:  18\n"
     ]
    }
   ],
   "source": [
    "current_board, current_draw_pile = initialize_game_state(num_players=1)\n",
    "\n",
    "# player draws five cards before game start\n",
    "current_player_hand = []\n",
    "for i in range(5):\n",
    "    card_ind = np.random.randint(0, len(current_draw_pile))\n",
    "    current_player_hand.append(current_draw_pile[card_ind])\n",
    "    current_draw_pile.remove(current_draw_pile[card_ind])\n",
    "# print(current_player_hand)\n",
    "\n",
    "num_turns = 0\n",
    "game_end = False\n",
    "while not game_end:\n",
    "    # choose best card from hand to play\n",
    "    the_best_dists = 999999999\n",
    "    the_best_spot = 0\n",
    "    the_best_card = 0\n",
    "    for card in current_player_hand:\n",
    "        best_spot_result = best_spot(board_state=current_board, chosen_card=card)\n",
    "        if best_spot_result[1] < the_best_dists:\n",
    "            the_best_dists = best_spot_result[1]\n",
    "            the_best_spot = best_spot_result[0]\n",
    "            the_best_card = card\n",
    "    # play best card from hand\n",
    "    roww = the_best_spot[0]\n",
    "    coll = the_best_spot[1]\n",
    "    current_board[roww][coll] = 1\n",
    "    current_player_hand.remove(the_best_card)\n",
    "    # draw new card from deck\n",
    "    card_ind = np.random.randint(0, len(current_draw_pile))\n",
    "    current_player_hand.append(current_draw_pile[card_ind])\n",
    "    current_draw_pile.remove(current_draw_pile[card_ind])\n",
    "    # check for win condition\n",
    "    game_end = check_for_sequence(current_board)\n",
    "    # visualize_the_board(current_board)\n",
    "    num_turns += 1\n",
    "\n",
    "print(\"Number of turns to win: \", num_turns)"
   ],
   "metadata": {
    "collapsed": false,
    "ExecuteTime": {
     "end_time": "2023-12-13T00:28:38.038431Z",
     "start_time": "2023-12-13T00:28:38.026583Z"
    }
   },
   "id": "14fe8e722d01308c"
  },
  {
   "cell_type": "code",
   "execution_count": 3,
   "outputs": [],
   "source": [
    "def play_game(starting_hand):\n",
    "    \"\"\"\n",
    "    This function simulates a sequence game with a single player, who has a given number\n",
    "    of cards in their hand. It returns the number of turns it takes them to win.\n",
    "    \n",
    "    :param starting_hand: number of cards the player has in their hand\n",
    "    :return: the number of turns it takes to win\n",
    "    \"\"\"\n",
    "    \n",
    "    curr_board, curr_draw_pile = initialize_game_state(num_players=1)\n",
    "    \n",
    "    # player draws five cards before game start\n",
    "    player_hand = []\n",
    "    for i in range(starting_hand):\n",
    "        ind = np.random.randint(0, len(curr_draw_pile))\n",
    "        player_hand.append(curr_draw_pile[ind])\n",
    "        curr_draw_pile.remove(curr_draw_pile[ind])\n",
    "    \n",
    "    tot_turns = 0\n",
    "    game_end_check = False\n",
    "    while not game_end_check:\n",
    "        # choose best card from hand to play\n",
    "        card_dist = 999999999\n",
    "        card_spot = 0\n",
    "        card_to_play = 0\n",
    "        for the_card in player_hand:\n",
    "            result = best_spot(board_state=curr_board, chosen_card=the_card)\n",
    "            if result[1] < card_dist:\n",
    "                card_dist = result[1]\n",
    "                card_spot = result[0]\n",
    "                card_to_play = the_card\n",
    "        # play best card from hand\n",
    "        row = card_spot[0]\n",
    "        col = card_spot[1]\n",
    "        curr_board[row][col] = 1\n",
    "        player_hand.remove(card_to_play)\n",
    "        # draw new card from deck\n",
    "        ind = np.random.randint(0, len(curr_draw_pile))\n",
    "        player_hand.append(curr_draw_pile[ind])\n",
    "        curr_draw_pile.remove(curr_draw_pile[ind])\n",
    "        # check for win condition\n",
    "        game_end_check = check_for_sequence(curr_board)\n",
    "        tot_turns += 1\n",
    "    \n",
    "    return tot_turns"
   ],
   "metadata": {
    "collapsed": false,
    "ExecuteTime": {
     "end_time": "2023-12-13T00:28:38.268054Z",
     "start_time": "2023-12-13T00:28:38.206280Z"
    }
   },
   "id": "e20bc29669705df0"
  },
  {
   "cell_type": "code",
   "execution_count": 4,
   "outputs": [
    {
     "data": {
      "text/plain": "Text(0, 0.5, 'Number of Wins')"
     },
     "execution_count": 4,
     "metadata": {},
     "output_type": "execute_result"
    },
    {
     "data": {
      "text/plain": "<Figure size 640x480 with 1 Axes>",
      "image/png": "[encoded data removed]"
     },
     "metadata": {},
     "output_type": "display_data"
    }
   ],
   "source": [
    "# it took about 40 seconds to run 10000 games for a start_hand of 5\n",
    "start_hand = 5\n",
    "num_sims = 10000\n",
    "turns_data = []\n",
    "\n",
    "for i in range(num_sims):\n",
    "    turns_data.append(play_game(start_hand))\n",
    "\n",
    "plt.hist(turns_data)\n",
    "plt.xlabel('Number of Turns')\n",
    "plt.ylabel('Number of Wins')"
   ],
   "metadata": {
    "collapsed": false,
    "ExecuteTime": {
     "end_time": "2023-12-13T00:29:22.175629Z",
     "start_time": "2023-12-13T00:28:38.984514Z"
    }
   },
   "id": "9a8a8169cd3defbc"
  },
  {
   "cell_type": "code",
   "execution_count": 5,
   "outputs": [
    {
     "data": {
      "text/plain": "Text(0, 0.5, 'Number of Wins')"
     },
     "execution_count": 5,
     "metadata": {},
     "output_type": "execute_result"
    },
    {
     "data": {
      "text/plain": "<Figure size 640x480 with 1 Axes>",
      "image/png": "[encoded data removed]"
     },
     "metadata": {},
     "output_type": "display_data"
    }
   ],
   "source": [
    "# it took about 50 seconds to run 10000 games for a start_hand of 7\n",
    "start_hand = 7\n",
    "num_sims = 10000\n",
    "turns_data = []\n",
    "\n",
    "for i in range(num_sims):\n",
    "    turns_data.append(play_game(start_hand))\n",
    "\n",
    "plt.hist(turns_data)\n",
    "plt.xlabel('Number of Turns')\n",
    "plt.ylabel('Number of Wins')"
   ],
   "metadata": {
    "collapsed": false,
    "ExecuteTime": {
     "end_time": "2023-12-13T00:31:41.110134Z",
     "start_time": "2023-12-13T00:30:49.117313Z"
    }
   },
   "id": "de2216ce86c06f93"
  },
  {
   "cell_type": "markdown",
   "source": [
    "### Results\n",
    "\n",
    "With more cards to choose from each turn, it makes sense that the average number of turns it takes to win is fewer than when the player only draws one card each turn. Also, the more cards that are in the player's hand, the fewer turns it takes to win, on average. For a hand of five cards, the average number of turns is about 21, and for a hand of seven cards, the average number of turns is about 19. Again, the strategy the player uses is not the best, and I suspect if it were adjusted to mimic that of a real player more accurately, the average number of turns would be lower."
   ],
   "metadata": {
    "collapsed": false
   },
   "id": "357a525359ee0919"
  },
  {
   "cell_type": "code",
   "execution_count": null,
   "outputs": [],
   "source": [],
   "metadata": {
    "collapsed": false
   },
   "id": "ae90a83d8cffa7e6"
  }
 ],
 "metadata": {
  "kernelspec": {
   "display_name": "Python 3",
   "language": "python",
   "name": "python3"
  },
  "language_info": {
   "codemirror_mode": {
    "name": "ipython",
    "version": 2
   },
   "file_extension": ".py",
   "mimetype": "text/x-python",
   "name": "python",
   "nbconvert_exporter": "python",
   "pygments_lexer": "ipython2",
   "version": "2.7.6"
  }
 },
 "nbformat": 4,
 "nbformat_minor": 5
}
